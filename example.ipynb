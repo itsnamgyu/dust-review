{
 "cells": [
  {
   "cell_type": "code",
   "execution_count": 1,
   "metadata": {},
   "outputs": [],
   "source": [
    "from metric_tracker import *\n",
    "import argparse\n",
    "from util.time.timestamp import *\n",
    "import numpy as np\n",
    "import torch\n",
    "import random"
   ]
  },
  {
   "cell_type": "code",
   "execution_count": 2,
   "metadata": {},
   "outputs": [],
   "source": [
    "# use args\n",
    "parser = argparse.ArgumentParser(description='Track metrics for a model')\n",
    "parser.add_argument('--evaluation_thresholds', default= [15, 35, 75])\n",
    "parser.add_argument('--device', default=\"cpu\")\n",
    "# parser.add_argument('--device', default=\"cuda:7\")\n",
    "args = parser.parse_args(args=[])"
   ]
  },
  {
   "cell_type": "code",
   "execution_count": 3,
   "metadata": {},
   "outputs": [],
   "source": [
    "timestamp = [Timestamp(2020, 1, 1, 1, 6), Timestamp(2020, 1, 1, 1, 7), Timestamp(2020, 1, 1, 1, 8),\n",
    "             Timestamp(2020, 1, 2, 1, 16), Timestamp(2020, 1, 2, 1, 17), Timestamp(2020, 1, 2, 1, 18)]\n",
    "prediction_grid = np.random.randint(low=0, high=100, size=(6, 83, 67))\n",
    "target_grid = np.random.randint(low=0, high=100, size=(6, 83, 67))\n",
    "prediction_regional = np.random.randint(low=0, high=100, size=(6, 19))\n",
    "target_regional = np.random.randint(low=0, high=100, size=(6, 19))"
   ]
  },
  {
   "cell_type": "code",
   "execution_count": 10,
   "metadata": {},
   "outputs": [],
   "source": [
    "# metrictracker.regional_df.to_csv('regional_df.csv', index=False)\n",
    "# metrictracker.grid_df.to_csv('grid_df.csv', index=False)"
   ]
  },
  {
   "cell_type": "code",
   "execution_count": 6,
   "metadata": {},
   "outputs": [],
   "source": [
    "metrictracker = MetricTracker(args)"
   ]
  },
  {
   "cell_type": "code",
   "execution_count": 7,
   "metadata": {},
   "outputs": [
    {
     "name": "stderr",
     "output_type": "stream",
     "text": [
      "/home/sihyeon/dust-review/metric_tracker.py:77: FutureWarning: The behavior of DataFrame concatenation with empty or all-NA entries is deprecated. In a future version, this will no longer exclude empty or all-NA columns when determining the result dtypes. To retain the old behavior, exclude the relevant entries before the concat operation.\n",
      "  self.regional_df = pd.concat([self.regional_df, new_data], ignore_index=True)\n"
     ]
    }
   ],
   "source": [
    "metrictracker.add_regional_predictions(timestamp, prediction_regional, target_regional)"
   ]
  },
  {
   "cell_type": "code",
   "execution_count": 8,
   "metadata": {},
   "outputs": [
    {
     "name": "stderr",
     "output_type": "stream",
     "text": [
      "/home/sihyeon/dust-review/metric_tracker.py:136: FutureWarning: The behavior of DataFrame concatenation with empty or all-NA entries is deprecated. In a future version, this will no longer exclude empty or all-NA columns when determining the result dtypes. To retain the old behavior, exclude the relevant entries before the concat operation.\n",
      "  self.grid_df = pd.concat([self.grid_df, new_data], ignore_index=True)\n"
     ]
    }
   ],
   "source": [
    "metrictracker.add_grid_predictions(timestamp, prediction_grid, target_grid)"
   ]
  },
  {
   "cell_type": "code",
   "execution_count": 9,
   "metadata": {},
   "outputs": [
    {
     "name": "stdout",
     "output_type": "stream",
     "text": [
      "Regional Metrics\n",
      "nmb: -22.12, nme: 60.02, r: 0.03, rmse: 40.6\n",
      "acc: 27.19, hard_acc: 27.71, far: 25.4, pod: 56.63, f1: 0.64\n",
      "\n",
      "Grid Metrics\n",
      "acc: 21.55, hard_acc: 33.96, far: 67.72, pod: 65.13, f1: 0.43\n"
     ]
    }
   ],
   "source": [
    "metrictracker.print_metrics()"
   ]
  }
 ],
 "metadata": {
  "kernelspec": {
   "display_name": "pm",
   "language": "python",
   "name": "python3"
  },
  "language_info": {
   "codemirror_mode": {
    "name": "ipython",
    "version": 3
   },
   "file_extension": ".py",
   "mimetype": "text/x-python",
   "name": "python",
   "nbconvert_exporter": "python",
   "pygments_lexer": "ipython3",
   "version": "3.9.18"
  }
 },
 "nbformat": 4,
 "nbformat_minor": 2
}
