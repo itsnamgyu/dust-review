{
 "cells": [
  {
   "cell_type": "code",
   "execution_count": 1,
   "metadata": {},
   "outputs": [],
   "source": [
    "from metric_tracker import *\n",
    "import argparse\n",
    "from util.time.timestamp import *\n",
    "import numpy as np\n",
    "import torch"
   ]
  },
  {
   "cell_type": "code",
   "execution_count": 2,
   "metadata": {},
   "outputs": [],
   "source": [
    "# use args\n",
    "parser = argparse.ArgumentParser(description='Track metrics for a model')\n",
    "parser.add_argument('--evaluation_threhsolds', default= [0.5, 0.6, 0.8])\n",
    "parser.add_argument('--device', default=\"cuda:7\")\n",
    "args = parser.parse_args(args=[])"
   ]
  },
  {
   "cell_type": "code",
   "execution_count": 3,
   "metadata": {},
   "outputs": [],
   "source": [
    "metrictracker = MetricTracker(args)"
   ]
  },
  {
   "cell_type": "code",
   "execution_count": 4,
   "metadata": {},
   "outputs": [],
   "source": [
    "timestamp = [Timestamp(2020, 1, 1, 1, 1), Timestamp(2020, 1, 1, 1, 2), Timestamp(2020, 1, 1, 1, 3),\n",
    "             Timestamp(2020, 1, 2, 1, 4), Timestamp(2020, 1, 2, 1, 5), Timestamp(2020, 1, 2, 1, 6)]\n",
    "prediction_grid = np.random.rand(6, 83, 67)\n",
    "target_grid = np.random.rand(6, 83, 67)\n",
    "prediction_regional = np.random.rand(6, 19)\n",
    "target_regional = np.random.rand(6, 19)"
   ]
  },
  {
   "cell_type": "code",
   "execution_count": 5,
   "metadata": {},
   "outputs": [
    {
     "name": "stderr",
     "output_type": "stream",
     "text": [
      "/home/sihyeon/dust-review/metric_tracker.py:60: FutureWarning: The behavior of DataFrame concatenation with empty or all-NA entries is deprecated. In a future version, this will no longer exclude empty or all-NA columns when determining the result dtypes. To retain the old behavior, exclude the relevant entries before the concat operation.\n",
      "  self.regional_df = pd.concat([self.regional_df, new_data], ignore_index=True)\n"
     ]
    },
    {
     "name": "stdout",
     "output_type": "stream",
     "text": [
      "nmb: -0.0, nme: 0.72, r: -0.07, rmse: 0.42\n",
      "acc: 0.28, hard_acc: 0.17, far: 0.61, pod: 0.37, f1: 0.38\n"
     ]
    }
   ],
   "source": [
    "metrictracker.add_regional_predictions(timestamp, prediction_regional, target_regional)\n",
    "metrictracker.print_raw_data(metrictracker.regional_df)"
   ]
  },
  {
   "cell_type": "code",
   "execution_count": 6,
   "metadata": {},
   "outputs": [
    {
     "name": "stdout",
     "output_type": "stream",
     "text": [
      "acc: 0.42, hard_acc: 0.2, far: 0.8, pod: 0.4, f1: 0.26\n"
     ]
    },
    {
     "name": "stderr",
     "output_type": "stream",
     "text": [
      "/home/sihyeon/dust-review/metric_tracker.py:117: FutureWarning: The behavior of DataFrame concatenation with empty or all-NA entries is deprecated. In a future version, this will no longer exclude empty or all-NA columns when determining the result dtypes. To retain the old behavior, exclude the relevant entries before the concat operation.\n",
      "  self.grid_df = pd.concat([self.grid_df, new_data], ignore_index=True)\n"
     ]
    }
   ],
   "source": [
    "metrictracker.add_grid_predictions(timestamp, prediction_grid, target_grid)\n",
    "columns_to_convert = ['g0p0', 'g0p1', 'g0p2', 'g0p3', 'g1p0', 'g1p1', 'g1p2', 'g1p3', 'g2p0', 'g2p1', 'g2p2', 'g2p3', 'g3p0', 'g3p1', 'g3p2', 'g3p3']\n",
    "grid_df = metrictracker.grid_df[columns_to_convert].to_numpy().reshape(-1, 4, 4)\n",
    "metrictracker.print_confusion_matrix(grid_df)"
   ]
  }
 ],
 "metadata": {
  "kernelspec": {
   "display_name": "pm",
   "language": "python",
   "name": "python3"
  },
  "language_info": {
   "codemirror_mode": {
    "name": "ipython",
    "version": 3
   },
   "file_extension": ".py",
   "mimetype": "text/x-python",
   "name": "python",
   "nbconvert_exporter": "python",
   "pygments_lexer": "ipython3",
   "version": "3.9.18"
  }
 },
 "nbformat": 4,
 "nbformat_minor": 2
}
